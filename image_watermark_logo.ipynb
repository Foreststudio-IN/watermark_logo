{
  "nbformat": 4,
  "nbformat_minor": 0,
  "metadata": {
    "colab": {
      "name": "image_watermark_logo.ipynb",
      "private_outputs": true,
      "provenance": []
    },
    "kernelspec": {
      "name": "python3",
      "display_name": "Python 3"
    },
    "language_info": {
      "name": "python"
    }
  },
  "cells": [
    {
      "cell_type": "code",
      "metadata": {
        "id": "BwTwye2F4h7q"
      },
      "source": [
        "import cv2\n",
        "from google.colab.patches import cv2_imshow\n",
        "image_1= cv2.imread('/content/images(10).jpg')\n",
        "image_2=cv2.imread(’/content/images_logo(11).jpg’)\n",
        "cv2_show(image_1)"
      ],
      "execution_count": null,
      "outputs": []
    },
    {
      "cell_type": "code",
      "metadata": {
        "id": "i-gz45CH4veN"
      },
      "source": [
        "cv2_show(image_2)\n",
        "def preprocessing(src, overlay, pos=(0, 0), scale=1): \n",
        "    overlay = cv2.resize(overlay, (0, 0), fx=scale, fy=scale)\n",
        "    h, w, _ = overlay.shape  \n",
        "    rows, cols, _ = src.shape  \n",
        "    y, x = pos[0], pos[0] "
      ],
      "execution_count": null,
      "outputs": []
    },
    {
      "cell_type": "code",
      "metadata": {
        "id": "_lSuVsJ84zz1"
      },
      "source": [
        "for i in range(h):  \n",
        "     for j in range(w):\n",
        "         if x + i >= rows or y + j >= cols:\n",
        "             continue\n",
        "          alpha = float(overlay[i][j][0] / 255.0) \n",
        "          src[x + i][y + j] = alpha * overlay[i][j][:3] + (1 - alpha)*src[x + i][y + j]\n",
        "    return src"
      ],
      "execution_count": null,
      "outputs": []
    },
    {
      "cell_type": "code",
      "metadata": {
        "id": "5h-kcrAM42kd"
      },
      "source": [
        "for i in range(h):\n",
        "     for j in range(w):\n",
        "         if x + i >= rows or y + j >= cols:\n",
        "             continue\n",
        "          alpha = float(overlay[i][j][0] / 255.0) \n",
        "          src[x + i][y + j] = alpha * overlay[i][j][:3] + (1 - alpha)*src[x + i][y + j]\n",
        "    return src"
      ],
      "execution_count": null,
      "outputs": []
    },
    {
      "cell_type": "code",
      "metadata": {
        "id": "n3PTRXC143Rj"
      },
      "source": [
        "watermark(image_1,image_2,100,(100,10))"
      ],
      "execution_count": null,
      "outputs": []
    },
    {
      "cell_type": "code",
      "metadata": {
        "id": "qhHYJ56W453H"
      },
      "source": [
        "from PIL import Image, ImageDraw, ImageFont\n",
        "original_img = Image.open('/content/download (17).jpg')\n",
        "width, height = original_img.size\n",
        "draw = ImageDraw.Draw(original_img)\n",
        "text = \"carnivorousplants.in\"\n",
        "textwidth, textheight = draw.textsize(text)\n",
        "margin = 10\n",
        "x = width - textwidth - margin\n",
        "y = height - textheight - margin\n",
        "draw.text((x, y), text)\n",
        "original_img.show()\n",
        "img = im.save('/content/Untitled Folder.png')"
      ],
      "execution_count": null,
      "outputs": []
    }
  ]
}